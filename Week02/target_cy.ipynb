{
 "cells": [
  {
   "cell_type": "code",
   "execution_count": 1,
   "metadata": {
    "scrolled": true
   },
   "outputs": [],
   "source": [
    "%load_ext Cython"
   ]
  },
  {
   "cell_type": "code",
   "execution_count": 2,
   "metadata": {},
   "outputs": [
    {
     "name": "stdout",
     "output_type": "stream",
     "text": [
      "0.37527894973754883\n"
     ]
    }
   ],
   "source": [
    "import numpy as np\n",
    "import pandas as pd\n",
    "import time\n",
    "\n",
    "def target_mean_v2(data, y_name, x_name):\n",
    "    result = np.zeros(data.shape[0])\n",
    "    value_dict = dict()\n",
    "    count_dict = dict()\n",
    "    for i in range(data.shape[0]):\n",
    "        x_val=data.loc[i, x_name]\n",
    "        y_val=data.loc[i, y_name]\n",
    "        if x_val not in value_dict.keys():\n",
    "            value_dict[x_val] = y_val\n",
    "            count_dict[x_val] = 1\n",
    "        else:\n",
    "            value_dict[x_val] += y_val\n",
    "            count_dict[x_val] += 1\n",
    "    for i in range(data.shape[0]):\n",
    "        val_loc=data.loc[i, x_name]\n",
    "        result[i] = (value_dict[val_loc] - data.loc[i, y_name]) / (count_dict[val_loc] - 1)\n",
    "    return result\n",
    "\n",
    "def timeCount(func,data):\n",
    "    start=time.time()\n",
    "    result=func(data,'y','x')\n",
    "    end=time.time()\n",
    "    return result,end-start\n",
    "\n",
    "y = np.random.randint(2, size=(5000, 1))\n",
    "x = np.random.randint(10, size=(5000, 1))\n",
    "data = pd.DataFrame(np.concatenate([y, x], axis=1), columns=['y', 'x'])\n",
    "result2=timeCount(target_mean_v2,data)\n",
    "print(result2[1])"
   ]
  },
  {
   "cell_type": "code",
   "execution_count": 6,
   "metadata": {
    "scrolled": false
   },
   "outputs": [
    {
     "name": "stderr",
     "output_type": "stream",
     "text": [
      "warning: /home/liangshu/.cache/ipython/cython/_cython_magic_c85b4eccc05159fcd047eb802db1037f.pyx:95:46: local variable 'i' referenced before assignment\n",
      "warning: /home/liangshu/.cache/ipython/cython/_cython_magic_c85b4eccc05159fcd047eb802db1037f.pyx:96:46: local variable 'i' referenced before assignment\n",
      "warning: /home/liangshu/.cache/ipython/cython/_cython_magic_c85b4eccc05159fcd047eb802db1037f.pyx:99:41: Use boundscheck(False) for faster access\n",
      "warning: /home/liangshu/.cache/ipython/cython/_cython_magic_c85b4eccc05159fcd047eb802db1037f.pyx:99:26: Use boundscheck(False) for faster access\n",
      "warning: /home/liangshu/.cache/ipython/cython/_cython_magic_c85b4eccc05159fcd047eb802db1037f.pyx:99:18: Use boundscheck(False) for faster access\n",
      "warning: /home/liangshu/.cache/ipython/cython/_cython_magic_c85b4eccc05159fcd047eb802db1037f.pyx:100:26: Use boundscheck(False) for faster access\n",
      "warning: /home/liangshu/.cache/ipython/cython/_cython_magic_c85b4eccc05159fcd047eb802db1037f.pyx:100:18: Use boundscheck(False) for faster access\n",
      "warning: /home/liangshu/.cache/ipython/cython/_cython_magic_c85b4eccc05159fcd047eb802db1037f.pyx:103:31: Use boundscheck(False) for faster access\n",
      "warning: /home/liangshu/.cache/ipython/cython/_cython_magic_c85b4eccc05159fcd047eb802db1037f.pyx:103:44: Use boundscheck(False) for faster access\n",
      "warning: /home/liangshu/.cache/ipython/cython/_cython_magic_c85b4eccc05159fcd047eb802db1037f.pyx:103:62: Use boundscheck(False) for faster access\n",
      "warning: /home/liangshu/.cache/ipython/cython/_cython_magic_c85b4eccc05159fcd047eb802db1037f.pyx:103:14: Use boundscheck(False) for faster access\n"
     ]
    },
    {
     "name": "stdout",
     "output_type": "stream",
     "text": [
      "0.37260890007019043\n",
      "0.014346122741699219\n",
      "0.0023381710052490234\n"
     ]
    },
    {
     "ename": "ValueError",
     "evalue": "Buffer dtype mismatch, expected 'long' but got 'double'",
     "output_type": "error",
     "traceback": [
      "\u001b[0;31m---------------------------------------------------------------------------\u001b[0m",
      "\u001b[0;31mValueError\u001b[0m                                Traceback (most recent call last)",
      "\u001b[0;32m<ipython-input-6-223187703cfc>\u001b[0m in \u001b[0;36m<module>\u001b[0;34m\u001b[0m\n\u001b[0;32m----> 1\u001b[0;31m \u001b[0mget_ipython\u001b[0m\u001b[0;34m(\u001b[0m\u001b[0;34m)\u001b[0m\u001b[0;34m.\u001b[0m\u001b[0mrun_cell_magic\u001b[0m\u001b[0;34m(\u001b[0m\u001b[0;34m'cython'\u001b[0m\u001b[0;34m,\u001b[0m \u001b[0;34m'-a'\u001b[0m\u001b[0;34m,\u001b[0m \u001b[0;34m\"import numpy as np\\nimport pandas as pd\\nimport time\\ncimport numpy as np\\nimport cython\\ncimport cython\\nfrom cython.parallel import prange\\n\\ncpdef convert_demo(matrix,num_dim=1):\\n    cdef np.ndarray[double, ndim=1, mode='fortran'] arg = np.asfortranarray(matrix, dtype=np.float64)\\n    return arg\\n\\n\\ncpdef target_mean_v3(data, y_name, x_name):                  \\n    result = convert_demo(np.zeros(data.shape[0]))\\n    value_dict = dict()\\n    count_dict = dict()\\n    \\n    cdef x_val,y_val,i,val_loc\\n    \\n    for i in range(data.shape[0]):\\n        x_val=data.loc[i, x_name]\\n        y_val=data.loc[i, y_name]\\n        if x_val not in value_dict.keys():\\n            value_dict[x_val] = y_val\\n            count_dict[x_val] = 1\\n        else:\\n            value_dict[x_val] += y_val\\n            count_dict[x_val] += 1\\n    for i in range(data.shape[0]):\\n        val_loc=data.loc[i, x_name]\\n        result[i] = (value_dict[val_loc] - data.loc[i, y_name]) / (count_dict[val_loc] - 1)\\n    return result\\n\\n\\n# @cython.boundscheck(False)\\n# @cython.wraparound(False)\\ncpdef target_mean_v4(np.ndarray[long,ndim=2] data):        #cdef parameters and func\\n    cdef double[:] result = np.zeros(data.shape[0])\\n    cdef dict value_dict={}\\n    cdef dict count_dict={}\\n    \\n    cdef int x_val\\n    cdef int y_val\\n    cdef int i\\n    cdef int val_loc\\n    cdef int num=data.shape[0]\\n    \\n    for i in range(num):\\n        x_val=data[i][1]\\n        y_val=data[i][0]\\n        if x_val not in value_dict.keys():\\n            value_dict[x_val] = y_val\\n            count_dict[x_val] = 1\\n        else:\\n            value_dict[x_val] += y_val\\n            count_dict[x_val] += 1\\n    for i in range(num):\\n        val_loc=data[i][1]\\n        result[i] = (value_dict[val_loc] - data[i][0]) / (count_dict[val_loc] - 1)\\n    return result\\n\\n\\n\\n\\ncpdef target_mean_v5(long[:,:] data):                       #magic func\\n    cdef double[:] result = np.zeros(data.shape[0])\\n    cdef dict value_dict={}\\n    cdef dict count_dict={}\\n    cdef int x_val\\n    cdef int y_val\\n    cdef int i\\n    cdef int val_loc\\n    \\n    for i in range(data.shape[0]):\\n        x_val=data[i][1]\\n        y_val=data[i][0]\\n        if x_val not in value_dict.keys():\\n            value_dict[x_val] = y_val\\n            count_dict[x_val] = 1\\n        else:\\n            value_dict[x_val] += y_val\\n            count_dict[x_val] += 1\\n    for i in range(data.shape[0]):\\n        val_loc=data[i][1]\\n        result[i] = (value_dict[val_loc] - data[i][0]) / (count_dict[val_loc] - 1)\\n    return result\\n\\ncpdef target_mean_v6(np.ndarray[long,ndim=2] data):    #prange,nogil\\n    cdef int num=data.shape[0]\\n    cdef double[:] result = np.zeros(num)\\n    cdef np.ndarray[long,ndim=1] value_dict=np.zeros(10)\\n    cdef np.ndarray[long,ndim=1] count_dict=np.zeros(10)\\n    cdef int x_val,y_val,i,val_loc\\n    cdef np.ndarray[long,ndim=1] y_value=data[i][0]\\n    cdef np.ndarray[long,ndim=1] x_value=data[i][1]\\n    \\n    for i in prange(num,nogil=True):\\n        value_dict[x_value[i]] += y_value[i]\\n        count_dict[x_value[i]] += 1\\n        \\n    for i in prange(num,nogil=True):\\n        result[i] = (value_dict[i] - y_value[i]) / (count_dict[i] - 1)\\n    return result\\n\\n\\n\\n\\ny = np.random.randint(2, size=(5000, 1))\\nx = np.random.randint(10, size=(5000, 1))\\ndata0=np.concatenate([y, x], axis=1)\\ndata = pd.DataFrame(data0, columns=['y', 'x'])\\n\\nstart=time.time()\\nresult=target_mean_v3(data,'y','x')\\nend=time.time()\\nprint(end-start)\\n\\nstart4=time.time()\\nresult4=target_mean_v4(data0)\\nend4=time.time()\\nprint(end4-start4)\\n\\nstart5=time.time()\\nresult5=target_mean_v5(data0)\\nend5=time.time()\\n\\nprint(end5-start5)\\n\\n\\nstart6=time.time()\\nresult6=target_mean_v6(data0)\\nend6=time.time()\\n\\nprint(end6-start6)\\n\\n\"\u001b[0m\u001b[0;34m)\u001b[0m\u001b[0;34m\u001b[0m\u001b[0;34m\u001b[0m\u001b[0m\n\u001b[0m",
      "\u001b[0;32m~/anaconda3/lib/python3.8/site-packages/IPython/core/interactiveshell.py\u001b[0m in \u001b[0;36mrun_cell_magic\u001b[0;34m(self, magic_name, line, cell)\u001b[0m\n\u001b[1;32m   2380\u001b[0m             \u001b[0;32mwith\u001b[0m \u001b[0mself\u001b[0m\u001b[0;34m.\u001b[0m\u001b[0mbuiltin_trap\u001b[0m\u001b[0;34m:\u001b[0m\u001b[0;34m\u001b[0m\u001b[0;34m\u001b[0m\u001b[0m\n\u001b[1;32m   2381\u001b[0m                 \u001b[0margs\u001b[0m \u001b[0;34m=\u001b[0m \u001b[0;34m(\u001b[0m\u001b[0mmagic_arg_s\u001b[0m\u001b[0;34m,\u001b[0m \u001b[0mcell\u001b[0m\u001b[0;34m)\u001b[0m\u001b[0;34m\u001b[0m\u001b[0;34m\u001b[0m\u001b[0m\n\u001b[0;32m-> 2382\u001b[0;31m                 \u001b[0mresult\u001b[0m \u001b[0;34m=\u001b[0m \u001b[0mfn\u001b[0m\u001b[0;34m(\u001b[0m\u001b[0;34m*\u001b[0m\u001b[0margs\u001b[0m\u001b[0;34m,\u001b[0m \u001b[0;34m**\u001b[0m\u001b[0mkwargs\u001b[0m\u001b[0;34m)\u001b[0m\u001b[0;34m\u001b[0m\u001b[0;34m\u001b[0m\u001b[0m\n\u001b[0m\u001b[1;32m   2383\u001b[0m             \u001b[0;32mreturn\u001b[0m \u001b[0mresult\u001b[0m\u001b[0;34m\u001b[0m\u001b[0;34m\u001b[0m\u001b[0m\n\u001b[1;32m   2384\u001b[0m \u001b[0;34m\u001b[0m\u001b[0m\n",
      "\u001b[0;32m<decorator-gen-119>\u001b[0m in \u001b[0;36mcython\u001b[0;34m(self, line, cell)\u001b[0m\n",
      "\u001b[0;32m~/anaconda3/lib/python3.8/site-packages/IPython/core/magic.py\u001b[0m in \u001b[0;36m<lambda>\u001b[0;34m(f, *a, **k)\u001b[0m\n\u001b[1;32m    185\u001b[0m     \u001b[0;31m# but it's overkill for just that one bit of state.\u001b[0m\u001b[0;34m\u001b[0m\u001b[0;34m\u001b[0m\u001b[0;34m\u001b[0m\u001b[0m\n\u001b[1;32m    186\u001b[0m     \u001b[0;32mdef\u001b[0m \u001b[0mmagic_deco\u001b[0m\u001b[0;34m(\u001b[0m\u001b[0marg\u001b[0m\u001b[0;34m)\u001b[0m\u001b[0;34m:\u001b[0m\u001b[0;34m\u001b[0m\u001b[0;34m\u001b[0m\u001b[0m\n\u001b[0;32m--> 187\u001b[0;31m         \u001b[0mcall\u001b[0m \u001b[0;34m=\u001b[0m \u001b[0;32mlambda\u001b[0m \u001b[0mf\u001b[0m\u001b[0;34m,\u001b[0m \u001b[0;34m*\u001b[0m\u001b[0ma\u001b[0m\u001b[0;34m,\u001b[0m \u001b[0;34m**\u001b[0m\u001b[0mk\u001b[0m\u001b[0;34m:\u001b[0m \u001b[0mf\u001b[0m\u001b[0;34m(\u001b[0m\u001b[0;34m*\u001b[0m\u001b[0ma\u001b[0m\u001b[0;34m,\u001b[0m \u001b[0;34m**\u001b[0m\u001b[0mk\u001b[0m\u001b[0;34m)\u001b[0m\u001b[0;34m\u001b[0m\u001b[0;34m\u001b[0m\u001b[0m\n\u001b[0m\u001b[1;32m    188\u001b[0m \u001b[0;34m\u001b[0m\u001b[0m\n\u001b[1;32m    189\u001b[0m         \u001b[0;32mif\u001b[0m \u001b[0mcallable\u001b[0m\u001b[0;34m(\u001b[0m\u001b[0marg\u001b[0m\u001b[0;34m)\u001b[0m\u001b[0;34m:\u001b[0m\u001b[0;34m\u001b[0m\u001b[0;34m\u001b[0m\u001b[0m\n",
      "\u001b[0;32m~/anaconda3/lib/python3.8/site-packages/Cython/Build/IpythonMagic.py\u001b[0m in \u001b[0;36mcython\u001b[0;34m(self, line, cell)\u001b[0m\n\u001b[1;32m    349\u001b[0m             \u001b[0;32mreturn\u001b[0m \u001b[0;32mNone\u001b[0m\u001b[0;34m\u001b[0m\u001b[0;34m\u001b[0m\u001b[0m\n\u001b[1;32m    350\u001b[0m \u001b[0;34m\u001b[0m\u001b[0m\n\u001b[0;32m--> 351\u001b[0;31m         \u001b[0mmodule\u001b[0m \u001b[0;34m=\u001b[0m \u001b[0mimp\u001b[0m\u001b[0;34m.\u001b[0m\u001b[0mload_dynamic\u001b[0m\u001b[0;34m(\u001b[0m\u001b[0mmodule_name\u001b[0m\u001b[0;34m,\u001b[0m \u001b[0mmodule_path\u001b[0m\u001b[0;34m)\u001b[0m\u001b[0;34m\u001b[0m\u001b[0;34m\u001b[0m\u001b[0m\n\u001b[0m\u001b[1;32m    352\u001b[0m         \u001b[0mself\u001b[0m\u001b[0;34m.\u001b[0m\u001b[0m_import_all\u001b[0m\u001b[0;34m(\u001b[0m\u001b[0mmodule\u001b[0m\u001b[0;34m)\u001b[0m\u001b[0;34m\u001b[0m\u001b[0;34m\u001b[0m\u001b[0m\n\u001b[1;32m    353\u001b[0m \u001b[0;34m\u001b[0m\u001b[0m\n",
      "\u001b[0;32m~/anaconda3/lib/python3.8/imp.py\u001b[0m in \u001b[0;36mload_dynamic\u001b[0;34m(name, path, file)\u001b[0m\n\u001b[1;32m    340\u001b[0m         spec = importlib.machinery.ModuleSpec(\n\u001b[1;32m    341\u001b[0m             name=name, loader=loader, origin=path)\n\u001b[0;32m--> 342\u001b[0;31m         \u001b[0;32mreturn\u001b[0m \u001b[0m_load\u001b[0m\u001b[0;34m(\u001b[0m\u001b[0mspec\u001b[0m\u001b[0;34m)\u001b[0m\u001b[0;34m\u001b[0m\u001b[0;34m\u001b[0m\u001b[0m\n\u001b[0m\u001b[1;32m    343\u001b[0m \u001b[0;34m\u001b[0m\u001b[0m\n\u001b[1;32m    344\u001b[0m \u001b[0;32melse\u001b[0m\u001b[0;34m:\u001b[0m\u001b[0;34m\u001b[0m\u001b[0;34m\u001b[0m\u001b[0m\n",
      "\u001b[0;32m~/anaconda3/lib/python3.8/importlib/_bootstrap.py\u001b[0m in \u001b[0;36m_load\u001b[0;34m(spec)\u001b[0m\n",
      "\u001b[0;32m~/anaconda3/lib/python3.8/importlib/_bootstrap.py\u001b[0m in \u001b[0;36m_load_unlocked\u001b[0;34m(spec)\u001b[0m\n",
      "\u001b[0;32m~/anaconda3/lib/python3.8/importlib/_bootstrap_external.py\u001b[0m in \u001b[0;36mexec_module\u001b[0;34m(self, module)\u001b[0m\n",
      "\u001b[0;32m~/anaconda3/lib/python3.8/importlib/_bootstrap.py\u001b[0m in \u001b[0;36m_call_with_frames_removed\u001b[0;34m(f, *args, **kwds)\u001b[0m\n",
      "\u001b[0;32m_cython_magic_c85b4eccc05159fcd047eb802db1037f.pyx\u001b[0m in \u001b[0;36minit _cython_magic_c85b4eccc05159fcd047eb802db1037f\u001b[0;34m()\u001b[0m\n",
      "\u001b[0;32m_cython_magic_c85b4eccc05159fcd047eb802db1037f.pyx\u001b[0m in \u001b[0;36m_cython_magic_c85b4eccc05159fcd047eb802db1037f.target_mean_v6\u001b[0;34m()\u001b[0m\n",
      "\u001b[0;31mValueError\u001b[0m: Buffer dtype mismatch, expected 'long' but got 'double'"
     ]
    }
   ],
   "source": [
    "%%cython -a\n",
    "import numpy as np\n",
    "import pandas as pd\n",
    "import time\n",
    "cimport numpy as np\n",
    "import cython\n",
    "cimport cython\n",
    "from cython.parallel import prange\n",
    "\n",
    "cpdef convert_demo(matrix,num_dim=1):\n",
    "    cdef np.ndarray[double, ndim=1, mode='fortran'] arg = np.asfortranarray(matrix, dtype=np.float64)\n",
    "    return arg\n",
    "\n",
    "\n",
    "cpdef target_mean_v3(data, y_name, x_name):                  \n",
    "    result = convert_demo(np.zeros(data.shape[0]))\n",
    "    value_dict = dict()\n",
    "    count_dict = dict()\n",
    "    \n",
    "    cdef x_val,y_val,i,val_loc\n",
    "    \n",
    "    for i in range(data.shape[0]):\n",
    "        x_val=data.loc[i, x_name]\n",
    "        y_val=data.loc[i, y_name]\n",
    "        if x_val not in value_dict.keys():\n",
    "            value_dict[x_val] = y_val\n",
    "            count_dict[x_val] = 1\n",
    "        else:\n",
    "            value_dict[x_val] += y_val\n",
    "            count_dict[x_val] += 1\n",
    "    for i in range(data.shape[0]):\n",
    "        val_loc=data.loc[i, x_name]\n",
    "        result[i] = (value_dict[val_loc] - data.loc[i, y_name]) / (count_dict[val_loc] - 1)\n",
    "    return result\n",
    "\n",
    "\n",
    "# @cython.boundscheck(False)\n",
    "# @cython.wraparound(False)\n",
    "cpdef target_mean_v4(np.ndarray[long,ndim=2] data):        #cdef parameters and func\n",
    "    cdef double[:] result = np.zeros(data.shape[0])\n",
    "    cdef dict value_dict={}\n",
    "    cdef dict count_dict={}\n",
    "    \n",
    "    cdef int x_val\n",
    "    cdef int y_val\n",
    "    cdef int i\n",
    "    cdef int val_loc\n",
    "    cdef int num=data.shape[0]\n",
    "    \n",
    "    for i in range(num):\n",
    "        x_val=data[i][1]\n",
    "        y_val=data[i][0]\n",
    "        if x_val not in value_dict.keys():\n",
    "            value_dict[x_val] = y_val\n",
    "            count_dict[x_val] = 1\n",
    "        else:\n",
    "            value_dict[x_val] += y_val\n",
    "            count_dict[x_val] += 1\n",
    "    for i in range(num):\n",
    "        val_loc=data[i][1]\n",
    "        result[i] = (value_dict[val_loc] - data[i][0]) / (count_dict[val_loc] - 1)\n",
    "    return result\n",
    "\n",
    "\n",
    "\n",
    "\n",
    "cpdef target_mean_v5(long[:,:] data):                       #magic func\n",
    "    cdef double[:] result = np.zeros(data.shape[0])\n",
    "    cdef dict value_dict={}\n",
    "    cdef dict count_dict={}\n",
    "    cdef int x_val\n",
    "    cdef int y_val\n",
    "    cdef int i\n",
    "    cdef int val_loc\n",
    "    \n",
    "    for i in range(data.shape[0]):\n",
    "        x_val=data[i][1]\n",
    "        y_val=data[i][0]\n",
    "        if x_val not in value_dict.keys():\n",
    "            value_dict[x_val] = y_val\n",
    "            count_dict[x_val] = 1\n",
    "        else:\n",
    "            value_dict[x_val] += y_val\n",
    "            count_dict[x_val] += 1\n",
    "    for i in range(data.shape[0]):\n",
    "        val_loc=data[i][1]\n",
    "        result[i] = (value_dict[val_loc] - data[i][0]) / (count_dict[val_loc] - 1)\n",
    "    return result\n",
    "\n",
    "cpdef target_mean_v6(np.ndarray[long,ndim=2] data):    #prange,nogil\n",
    "    cdef int num=data.shape[0]\n",
    "    cdef double[:] result = np.zeros(num)\n",
    "    cdef np.ndarray[long,ndim=1] value_dict=np.zeros(10)\n",
    "    cdef np.ndarray[long,ndim=1] count_dict=np.zeros(10)\n",
    "    cdef int x_val,y_val,i,val_loc\n",
    "    cdef np.ndarray[long,ndim=1] y_value=data[i][0]\n",
    "    cdef np.ndarray[long,ndim=1] x_value=data[i][1]\n",
    "    \n",
    "    for i in prange(num,nogil=True):\n",
    "        value_dict[x_value[i]] += y_value[i]\n",
    "        count_dict[x_value[i]] += 1\n",
    "        \n",
    "    for i in prange(num,nogil=True):\n",
    "        result[i] = (value_dict[i] - y_value[i]) / (count_dict[i] - 1)\n",
    "    return result\n",
    "\n",
    "\n",
    "\n",
    "\n",
    "y = np.random.randint(2, size=(5000, 1))\n",
    "x = np.random.randint(10, size=(5000, 1))\n",
    "data0=np.concatenate([y, x], axis=1)\n",
    "data = pd.DataFrame(data0, columns=['y', 'x'])\n",
    "\n",
    "start=time.time()\n",
    "result=target_mean_v3(data,'y','x')\n",
    "end=time.time()\n",
    "print(end-start)\n",
    "\n",
    "start4=time.time()\n",
    "result4=target_mean_v4(data0)\n",
    "end4=time.time()\n",
    "print(end4-start4)\n",
    "\n",
    "start5=time.time()\n",
    "result5=target_mean_v5(data0)\n",
    "end5=time.time()\n",
    "\n",
    "print(end5-start5)\n",
    "\n",
    "\n",
    "start6=time.time()\n",
    "result6=target_mean_v6(data0)\n",
    "end6=time.time()\n",
    "\n",
    "print(end6-start6)\n",
    "\n"
   ]
  },
  {
   "cell_type": "markdown",
   "metadata": {},
   "source": [
    "***nogil and prange实现并行***"
   ]
  },
  {
   "cell_type": "code",
   "execution_count": 7,
   "metadata": {},
   "outputs": [
    {
     "name": "stdout",
     "output_type": "stream",
     "text": [
      "20.4 ms ± 1.36 ms per loop (mean ± std. dev. of 7 runs, 100 loops each)\n"
     ]
    }
   ],
   "source": [
    "%%timeit\n",
    "target_mean_v5(data0)"
   ]
  },
  {
   "cell_type": "code",
   "execution_count": null,
   "metadata": {},
   "outputs": [],
   "source": [
    "import numpy as np\n",
    "a=np.array([])\n",
    "a=np.append(a,1)\n",
    "a"
   ]
  }
 ],
 "metadata": {
  "kernelspec": {
   "display_name": "Python 3",
   "language": "python",
   "name": "python3"
  },
  "language_info": {
   "codemirror_mode": {
    "name": "ipython",
    "version": 3
   },
   "file_extension": ".py",
   "mimetype": "text/x-python",
   "name": "python",
   "nbconvert_exporter": "python",
   "pygments_lexer": "ipython3",
   "version": "3.8.5"
  }
 },
 "nbformat": 4,
 "nbformat_minor": 4
}
