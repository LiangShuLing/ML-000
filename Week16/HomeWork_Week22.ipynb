{
 "cells": [
  {
   "cell_type": "code",
   "execution_count": 58,
   "metadata": {},
   "outputs": [],
   "source": [
    "import pandas as pd\n",
    "import numpy as np\n"
   ]
  },
  {
   "cell_type": "code",
   "execution_count": 100,
   "metadata": {},
   "outputs": [
    {
     "data": {
      "text/html": [
       "<div>\n",
       "<style scoped>\n",
       "    .dataframe tbody tr th:only-of-type {\n",
       "        vertical-align: middle;\n",
       "    }\n",
       "\n",
       "    .dataframe tbody tr th {\n",
       "        vertical-align: top;\n",
       "    }\n",
       "\n",
       "    .dataframe thead th {\n",
       "        text-align: right;\n",
       "    }\n",
       "</style>\n",
       "<table border=\"1\" class=\"dataframe\">\n",
       "  <thead>\n",
       "    <tr style=\"text-align: right;\">\n",
       "      <th></th>\n",
       "      <th>continuous_annual_inc</th>\n",
       "      <th>continuous_annual_inc_joint</th>\n",
       "      <th>continuous_delinq_2yrs</th>\n",
       "      <th>continuous_dti</th>\n",
       "      <th>continuous_dti_joint</th>\n",
       "      <th>continuous_fico_range_high</th>\n",
       "      <th>continuous_fico_range_low</th>\n",
       "      <th>continuous_funded_amnt</th>\n",
       "      <th>continuous_funded_amnt_inv</th>\n",
       "      <th>continuous_inq_last_6mths</th>\n",
       "      <th>...</th>\n",
       "      <th>discrete_sub_grade_28_one_hot</th>\n",
       "      <th>discrete_sub_grade_29_one_hot</th>\n",
       "      <th>discrete_sub_grade_30_one_hot</th>\n",
       "      <th>discrete_sub_grade_31_one_hot</th>\n",
       "      <th>discrete_sub_grade_32_one_hot</th>\n",
       "      <th>discrete_sub_grade_33_one_hot</th>\n",
       "      <th>discrete_sub_grade_34_one_hot</th>\n",
       "      <th>discrete_sub_grade_35_one_hot</th>\n",
       "      <th>discrete_term_1_one_hot</th>\n",
       "      <th>discrete_term_2_one_hot</th>\n",
       "    </tr>\n",
       "  </thead>\n",
       "  <tbody>\n",
       "    <tr>\n",
       "      <th>0</th>\n",
       "      <td>55000.0</td>\n",
       "      <td>0.0</td>\n",
       "      <td>0.0</td>\n",
       "      <td>5.91</td>\n",
       "      <td>0.00</td>\n",
       "      <td>679.0</td>\n",
       "      <td>675.0</td>\n",
       "      <td>3600.0</td>\n",
       "      <td>3600.0</td>\n",
       "      <td>1.0</td>\n",
       "      <td>...</td>\n",
       "      <td>0</td>\n",
       "      <td>0</td>\n",
       "      <td>0</td>\n",
       "      <td>0</td>\n",
       "      <td>0</td>\n",
       "      <td>0</td>\n",
       "      <td>0</td>\n",
       "      <td>0</td>\n",
       "      <td>1</td>\n",
       "      <td>0</td>\n",
       "    </tr>\n",
       "    <tr>\n",
       "      <th>1</th>\n",
       "      <td>65000.0</td>\n",
       "      <td>0.0</td>\n",
       "      <td>1.0</td>\n",
       "      <td>16.06</td>\n",
       "      <td>0.00</td>\n",
       "      <td>719.0</td>\n",
       "      <td>715.0</td>\n",
       "      <td>24700.0</td>\n",
       "      <td>24700.0</td>\n",
       "      <td>4.0</td>\n",
       "      <td>...</td>\n",
       "      <td>0</td>\n",
       "      <td>0</td>\n",
       "      <td>0</td>\n",
       "      <td>0</td>\n",
       "      <td>0</td>\n",
       "      <td>0</td>\n",
       "      <td>0</td>\n",
       "      <td>0</td>\n",
       "      <td>1</td>\n",
       "      <td>0</td>\n",
       "    </tr>\n",
       "    <tr>\n",
       "      <th>2</th>\n",
       "      <td>63000.0</td>\n",
       "      <td>71000.0</td>\n",
       "      <td>0.0</td>\n",
       "      <td>10.78</td>\n",
       "      <td>13.85</td>\n",
       "      <td>699.0</td>\n",
       "      <td>695.0</td>\n",
       "      <td>20000.0</td>\n",
       "      <td>20000.0</td>\n",
       "      <td>0.0</td>\n",
       "      <td>...</td>\n",
       "      <td>0</td>\n",
       "      <td>0</td>\n",
       "      <td>0</td>\n",
       "      <td>0</td>\n",
       "      <td>0</td>\n",
       "      <td>0</td>\n",
       "      <td>0</td>\n",
       "      <td>0</td>\n",
       "      <td>0</td>\n",
       "      <td>1</td>\n",
       "    </tr>\n",
       "  </tbody>\n",
       "</table>\n",
       "<p>3 rows × 146 columns</p>\n",
       "</div>"
      ],
      "text/plain": [
       "   continuous_annual_inc  continuous_annual_inc_joint  continuous_delinq_2yrs  \\\n",
       "0                55000.0                          0.0                     0.0   \n",
       "1                65000.0                          0.0                     1.0   \n",
       "2                63000.0                      71000.0                     0.0   \n",
       "\n",
       "   continuous_dti  continuous_dti_joint  continuous_fico_range_high  \\\n",
       "0            5.91                  0.00                       679.0   \n",
       "1           16.06                  0.00                       719.0   \n",
       "2           10.78                 13.85                       699.0   \n",
       "\n",
       "   continuous_fico_range_low  continuous_funded_amnt  \\\n",
       "0                      675.0                  3600.0   \n",
       "1                      715.0                 24700.0   \n",
       "2                      695.0                 20000.0   \n",
       "\n",
       "   continuous_funded_amnt_inv  continuous_inq_last_6mths  ...  \\\n",
       "0                      3600.0                        1.0  ...   \n",
       "1                     24700.0                        4.0  ...   \n",
       "2                     20000.0                        0.0  ...   \n",
       "\n",
       "   discrete_sub_grade_28_one_hot  discrete_sub_grade_29_one_hot  \\\n",
       "0                              0                              0   \n",
       "1                              0                              0   \n",
       "2                              0                              0   \n",
       "\n",
       "   discrete_sub_grade_30_one_hot  discrete_sub_grade_31_one_hot  \\\n",
       "0                              0                              0   \n",
       "1                              0                              0   \n",
       "2                              0                              0   \n",
       "\n",
       "   discrete_sub_grade_32_one_hot  discrete_sub_grade_33_one_hot  \\\n",
       "0                              0                              0   \n",
       "1                              0                              0   \n",
       "2                              0                              0   \n",
       "\n",
       "   discrete_sub_grade_34_one_hot  discrete_sub_grade_35_one_hot  \\\n",
       "0                              0                              0   \n",
       "1                              0                              0   \n",
       "2                              0                              0   \n",
       "\n",
       "   discrete_term_1_one_hot  discrete_term_2_one_hot  \n",
       "0                        1                        0  \n",
       "1                        1                        0  \n",
       "2                        0                        1  \n",
       "\n",
       "[3 rows x 146 columns]"
      ]
     },
     "execution_count": 100,
     "metadata": {},
     "output_type": "execute_result"
    }
   ],
   "source": [
    "import pandas as pd\n",
    "import numpy as np\n",
    "CSV_FILE_PATH='C:\\\\Users\\\\LiangShu\\\\Desktop\\\\final\\\\train_final.csv'\n",
    "TEST_CSV_FILE_PATH='C:\\\\Users\\\\LiangShu\\\\Desktop\\\\final\\\\test_final.csv'\n",
    "df=pd.read_csv(CSV_FILE_PATH)             #load train data\n",
    "df_test=pd.read_csv(TEST_CSV_FILE_PATH)   #load test data\n",
    "df.fillna(0,inplace=True)                         #fill NaN to 0\n",
    "df_test.fillna(0,inplace=True)\n",
    "df.head(3)"
   ]
  },
  {
   "cell_type": "code",
   "execution_count": 60,
   "metadata": {},
   "outputs": [
    {
     "name": "stdout",
     "output_type": "stream",
     "text": [
      "39788\n"
     ]
    },
    {
     "data": {
      "text/html": [
       "<div>\n",
       "<style scoped>\n",
       "    .dataframe tbody tr th:only-of-type {\n",
       "        vertical-align: middle;\n",
       "    }\n",
       "\n",
       "    .dataframe tbody tr th {\n",
       "        vertical-align: top;\n",
       "    }\n",
       "\n",
       "    .dataframe thead th {\n",
       "        text-align: right;\n",
       "    }\n",
       "</style>\n",
       "<table border=\"1\" class=\"dataframe\">\n",
       "  <thead>\n",
       "    <tr style=\"text-align: right;\">\n",
       "      <th></th>\n",
       "      <th>continuous_annual_inc</th>\n",
       "      <th>continuous_annual_inc_joint</th>\n",
       "      <th>continuous_delinq_2yrs</th>\n",
       "      <th>continuous_dti</th>\n",
       "      <th>continuous_dti_joint</th>\n",
       "      <th>continuous_fico_range_high</th>\n",
       "      <th>continuous_fico_range_low</th>\n",
       "      <th>continuous_funded_amnt</th>\n",
       "      <th>continuous_funded_amnt_inv</th>\n",
       "      <th>continuous_inq_last_6mths</th>\n",
       "      <th>...</th>\n",
       "      <th>discrete_sub_grade_28_one_hot</th>\n",
       "      <th>discrete_sub_grade_29_one_hot</th>\n",
       "      <th>discrete_sub_grade_30_one_hot</th>\n",
       "      <th>discrete_sub_grade_31_one_hot</th>\n",
       "      <th>discrete_sub_grade_32_one_hot</th>\n",
       "      <th>discrete_sub_grade_33_one_hot</th>\n",
       "      <th>discrete_sub_grade_34_one_hot</th>\n",
       "      <th>discrete_sub_grade_35_one_hot</th>\n",
       "      <th>discrete_term_1_one_hot</th>\n",
       "      <th>discrete_term_2_one_hot</th>\n",
       "    </tr>\n",
       "  </thead>\n",
       "  <tbody>\n",
       "    <tr>\n",
       "      <th>0</th>\n",
       "      <td>55000.0</td>\n",
       "      <td>0.0</td>\n",
       "      <td>0.0</td>\n",
       "      <td>5.91</td>\n",
       "      <td>0.00</td>\n",
       "      <td>679.0</td>\n",
       "      <td>675.0</td>\n",
       "      <td>3600.0</td>\n",
       "      <td>3600.0</td>\n",
       "      <td>1.0</td>\n",
       "      <td>...</td>\n",
       "      <td>0</td>\n",
       "      <td>0</td>\n",
       "      <td>0</td>\n",
       "      <td>0</td>\n",
       "      <td>0</td>\n",
       "      <td>0</td>\n",
       "      <td>0</td>\n",
       "      <td>0</td>\n",
       "      <td>1</td>\n",
       "      <td>0</td>\n",
       "    </tr>\n",
       "    <tr>\n",
       "      <th>1</th>\n",
       "      <td>65000.0</td>\n",
       "      <td>0.0</td>\n",
       "      <td>1.0</td>\n",
       "      <td>16.06</td>\n",
       "      <td>0.00</td>\n",
       "      <td>719.0</td>\n",
       "      <td>715.0</td>\n",
       "      <td>24700.0</td>\n",
       "      <td>24700.0</td>\n",
       "      <td>4.0</td>\n",
       "      <td>...</td>\n",
       "      <td>0</td>\n",
       "      <td>0</td>\n",
       "      <td>0</td>\n",
       "      <td>0</td>\n",
       "      <td>0</td>\n",
       "      <td>0</td>\n",
       "      <td>0</td>\n",
       "      <td>0</td>\n",
       "      <td>1</td>\n",
       "      <td>0</td>\n",
       "    </tr>\n",
       "    <tr>\n",
       "      <th>2</th>\n",
       "      <td>63000.0</td>\n",
       "      <td>71000.0</td>\n",
       "      <td>0.0</td>\n",
       "      <td>10.78</td>\n",
       "      <td>13.85</td>\n",
       "      <td>699.0</td>\n",
       "      <td>695.0</td>\n",
       "      <td>20000.0</td>\n",
       "      <td>20000.0</td>\n",
       "      <td>0.0</td>\n",
       "      <td>...</td>\n",
       "      <td>0</td>\n",
       "      <td>0</td>\n",
       "      <td>0</td>\n",
       "      <td>0</td>\n",
       "      <td>0</td>\n",
       "      <td>0</td>\n",
       "      <td>0</td>\n",
       "      <td>0</td>\n",
       "      <td>0</td>\n",
       "      <td>1</td>\n",
       "    </tr>\n",
       "  </tbody>\n",
       "</table>\n",
       "<p>3 rows × 145 columns</p>\n",
       "</div>"
      ],
      "text/plain": [
       "   continuous_annual_inc  continuous_annual_inc_joint  continuous_delinq_2yrs  \\\n",
       "0                55000.0                          0.0                     0.0   \n",
       "1                65000.0                          0.0                     1.0   \n",
       "2                63000.0                      71000.0                     0.0   \n",
       "\n",
       "   continuous_dti  continuous_dti_joint  continuous_fico_range_high  \\\n",
       "0            5.91                  0.00                       679.0   \n",
       "1           16.06                  0.00                       719.0   \n",
       "2           10.78                 13.85                       699.0   \n",
       "\n",
       "   continuous_fico_range_low  continuous_funded_amnt  \\\n",
       "0                      675.0                  3600.0   \n",
       "1                      715.0                 24700.0   \n",
       "2                      695.0                 20000.0   \n",
       "\n",
       "   continuous_funded_amnt_inv  continuous_inq_last_6mths  ...  \\\n",
       "0                      3600.0                        1.0  ...   \n",
       "1                     24700.0                        4.0  ...   \n",
       "2                     20000.0                        0.0  ...   \n",
       "\n",
       "   discrete_sub_grade_28_one_hot  discrete_sub_grade_29_one_hot  \\\n",
       "0                              0                              0   \n",
       "1                              0                              0   \n",
       "2                              0                              0   \n",
       "\n",
       "   discrete_sub_grade_30_one_hot  discrete_sub_grade_31_one_hot  \\\n",
       "0                              0                              0   \n",
       "1                              0                              0   \n",
       "2                              0                              0   \n",
       "\n",
       "   discrete_sub_grade_32_one_hot  discrete_sub_grade_33_one_hot  \\\n",
       "0                              0                              0   \n",
       "1                              0                              0   \n",
       "2                              0                              0   \n",
       "\n",
       "   discrete_sub_grade_34_one_hot  discrete_sub_grade_35_one_hot  \\\n",
       "0                              0                              0   \n",
       "1                              0                              0   \n",
       "2                              0                              0   \n",
       "\n",
       "   discrete_term_1_one_hot  discrete_term_2_one_hot  \n",
       "0                        1                        0  \n",
       "1                        1                        0  \n",
       "2                        0                        1  \n",
       "\n",
       "[3 rows x 145 columns]"
      ]
     },
     "execution_count": 60,
     "metadata": {},
     "output_type": "execute_result"
    }
   ],
   "source": [
    "train_lable=df['loan_status']\n",
    "test_lable=df_test['loan_status']\n",
    "train_data=df.drop(['loan_status'],axis=1)\n",
    "test_data=df_test.drop(['loan_status'],axis=1)\n",
    "print(train_lable.sum())\n",
    "train_data.head(3)"
   ]
  },
  {
   "cell_type": "markdown",
   "metadata": {},
   "source": [
    "## 1- 传统模型\n",
    "**模型1-SVM**"
   ]
  },
  {
   "cell_type": "code",
   "execution_count": 54,
   "metadata": {},
   "outputs": [],
   "source": [
    "from sklearn import svm\n",
    "clf=svm.SVC(kernel='rbf')\n",
    "clf.fit(train_data,train_lable)\n",
    "predict_trainData=clf.predict(train_data)\n"
   ]
  },
  {
   "cell_type": "code",
   "execution_count": 60,
   "metadata": {},
   "outputs": [
    {
     "data": {
      "text/plain": [
       "0.79582"
      ]
     },
     "execution_count": 60,
     "metadata": {},
     "output_type": "execute_result"
    }
   ],
   "source": [
    "clf.score(train_data,train_lable)"
   ]
  },
  {
   "cell_type": "code",
   "execution_count": 61,
   "metadata": {},
   "outputs": [
    {
     "data": {
      "text/plain": [
       "49997"
      ]
     },
     "execution_count": 61,
     "metadata": {},
     "output_type": "execute_result"
    }
   ],
   "source": [
    "sum(predict_trainData)"
   ]
  },
  {
   "cell_type": "markdown",
   "metadata": {},
   "source": [
    "总共有50000个参数，39788个标签为1，标签为0的有10212个。但是预测结果为49997个为1，预测为0的仅仅只有3个。几乎没有分类"
   ]
  },
  {
   "cell_type": "markdown",
   "metadata": {},
   "source": [
    "**模型2-Logistic regression**"
   ]
  },
  {
   "cell_type": "code",
   "execution_count": 61,
   "metadata": {},
   "outputs": [
    {
     "name": "stdout",
     "output_type": "stream",
     "text": [
      "训练集评估结果：0.9107\n",
      "测试集评估结果：0.9111\n"
     ]
    },
    {
     "name": "stderr",
     "output_type": "stream",
     "text": [
      "C:\\Users\\LiangShu\\Anaconda3\\envs\\tfenv\\lib\\site-packages\\sklearn\\linear_model\\_logistic.py:764: ConvergenceWarning: lbfgs failed to converge (status=1):\n",
      "STOP: TOTAL NO. of ITERATIONS REACHED LIMIT.\n",
      "\n",
      "Increase the number of iterations (max_iter) or scale the data as shown in:\n",
      "    https://scikit-learn.org/stable/modules/preprocessing.html\n",
      "Please also refer to the documentation for alternative solver options:\n",
      "    https://scikit-learn.org/stable/modules/linear_model.html#logistic-regression\n",
      "  extra_warning_msg=_LOGISTIC_SOLVER_CONVERGENCE_MSG)\n"
     ]
    }
   ],
   "source": [
    "from sklearn.linear_model import LogisticRegression\n",
    "logis_clf=LogisticRegression(random_state=20)\n",
    "logis_clf.fit(train_data,train_lable)\n",
    "#评估结果\n",
    "print('训练集评估结果：{}'.format(logis_clf.score(train_data,train_lable)))\n",
    "print('测试集评估结果：{}'.format(logis_clf.score(test_data,test_lable)))"
   ]
  },
  {
   "cell_type": "markdown",
   "metadata": {},
   "source": [
    "**模型3-SGDClassifier**"
   ]
  },
  {
   "cell_type": "code",
   "execution_count": 62,
   "metadata": {},
   "outputs": [
    {
     "name": "stdout",
     "output_type": "stream",
     "text": [
      "训练集评估结果：0.88168\n",
      "测试集评估结果：0.88548\n"
     ]
    }
   ],
   "source": [
    "from sklearn.linear_model import SGDClassifier\n",
    "SGD_clf = SGDClassifier(random_state=29,loss='log')\n",
    "SGD_clf.fit(train_data,train_lable)\n",
    "#评估结果\n",
    "print('训练集评估结果：{}'.format(SGD_clf.score(train_data,train_lable)))\n",
    "print('测试集评估结果：{}'.format(SGD_clf.score(test_data,test_lable)))"
   ]
  },
  {
   "cell_type": "markdown",
   "metadata": {},
   "source": [
    "**模型4-Gaussian Naive Bayes**"
   ]
  },
  {
   "cell_type": "code",
   "execution_count": 63,
   "metadata": {},
   "outputs": [
    {
     "name": "stdout",
     "output_type": "stream",
     "text": [
      "训练集评估结果：0.90654\n",
      "测试集评估结果：0.90478\n"
     ]
    }
   ],
   "source": [
    "from sklearn.naive_bayes import GaussianNB\n",
    "bayes_clf=GaussianNB()\n",
    "bayes_clf.fit(train_data,train_lable)\n",
    "#评估结果\n",
    "print('训练集评估结果：{}'.format(bayes_clf.score(train_data,train_lable)))\n",
    "print('测试集评估结果：{}'.format(bayes_clf.score(test_data,test_lable)))"
   ]
  },
  {
   "cell_type": "markdown",
   "metadata": {},
   "source": [
    "**模型5-Decision Trees**"
   ]
  },
  {
   "cell_type": "code",
   "execution_count": 64,
   "metadata": {},
   "outputs": [
    {
     "name": "stdout",
     "output_type": "stream",
     "text": [
      "训练集评估结果：1.0\n",
      "测试集评估结果：0.88058\n"
     ]
    }
   ],
   "source": [
    "from sklearn import tree\n",
    "tree_clf = tree.DecisionTreeClassifier()\n",
    "tree_clf.fit(train_data,train_lable)\n",
    "#评估结果\n",
    "print('训练集评估结果：{}'.format(tree_clf.score(train_data,train_lable)))\n",
    "print('测试集评估结果：{}'.format(tree_clf.score(test_data,test_lable)))"
   ]
  },
  {
   "cell_type": "markdown",
   "metadata": {},
   "source": [
    "**模型6-Ensemble methods**\n",
    "1. Bagging meta-estimator\n",
    "2. Forests of randomized trees\n",
    "3. ExtraTreesClassifier\n",
    "4. AdaBoost\n",
    "5. Gradient Tree Boosting\n",
    "6. Histogram-Based Gradient Boosting\n",
    "7. Voting Classifier\n",
    "8. Voting Regressor\n",
    "9. Stacked generalization"
   ]
  },
  {
   "cell_type": "code",
   "execution_count": 65,
   "metadata": {},
   "outputs": [
    {
     "name": "stdout",
     "output_type": "stream",
     "text": [
      "训练集评估结果：0.89548\n",
      "测试集评估结果：0.8667\n"
     ]
    }
   ],
   "source": [
    "# Bagging meta-estimator\n",
    "from sklearn.ensemble import BaggingClassifier\n",
    "from sklearn.neighbors import KNeighborsClassifier\n",
    "bagging = BaggingClassifier(KNeighborsClassifier(),max_samples=0.6, max_features=0.6)\n",
    "bagging.fit(train_data,train_lable)\n",
    "#评估结果\n",
    "print('训练集评估结果：{}'.format(bagging.score(train_data,train_lable)))\n",
    "print('测试集评估结果：{}'.format(bagging.score(test_data,test_lable)))"
   ]
  },
  {
   "cell_type": "code",
   "execution_count": 66,
   "metadata": {},
   "outputs": [
    {
     "name": "stdout",
     "output_type": "stream",
     "text": [
      "训练集评估结果：0.99434\n",
      "测试集评估结果：0.91154\n"
     ]
    }
   ],
   "source": [
    "# Forests of randomized trees\n",
    "from sklearn.ensemble import RandomForestClassifier\n",
    "randomforest_clf=RandomForestClassifier(n_estimators=10)\n",
    "randomforest_clf.fit(train_data,train_lable)\n",
    "#评估结果\n",
    "print('训练集评估结果：{}'.format(randomforest_clf.score(train_data,train_lable)))\n",
    "print('测试集评估结果：{}'.format(randomforest_clf.score(test_data,test_lable)))"
   ]
  },
  {
   "cell_type": "code",
   "execution_count": 67,
   "metadata": {},
   "outputs": [
    {
     "name": "stdout",
     "output_type": "stream",
     "text": [
      "训练集评估结果：1.0\n",
      "测试集评估结果：0.90694\n"
     ]
    }
   ],
   "source": [
    "# ExtraTreesClassifier\n",
    "from sklearn.ensemble import ExtraTreesClassifier\n",
    "extratree_clf=ExtraTreesClassifier(n_estimators=10)\n",
    "extratree_clf.fit(train_data,train_lable)\n",
    "#评估结果\n",
    "print('训练集评估结果：{}'.format(extratree_clf.score(train_data,train_lable)))\n",
    "print('测试集评估结果：{}'.format(extratree_clf.score(test_data,test_lable)))"
   ]
  },
  {
   "cell_type": "code",
   "execution_count": 68,
   "metadata": {},
   "outputs": [
    {
     "name": "stdout",
     "output_type": "stream",
     "text": [
      "训练集评估结果：0.91996\n",
      "测试集评估结果：0.91592\n"
     ]
    }
   ],
   "source": [
    "# AdaBoost\n",
    "from sklearn.ensemble import AdaBoostClassifier\n",
    "adam_clf = AdaBoostClassifier(n_estimators=100,learning_rate=0.88)\n",
    "adam_clf.fit(train_data,train_lable)\n",
    "#评估结果\n",
    "print('训练集评估结果：{}'.format(adam_clf.score(train_data,train_lable)))\n",
    "print('测试集评估结果：{}'.format(adam_clf.score(test_data,test_lable)))"
   ]
  },
  {
   "cell_type": "code",
   "execution_count": 69,
   "metadata": {},
   "outputs": [
    {
     "name": "stdout",
     "output_type": "stream",
     "text": [
      "训练集评估结果：0.93192\n",
      "测试集评估结果：0.91346\n"
     ]
    }
   ],
   "source": [
    "# Gradient Tree Boosting\n",
    "from sklearn.ensemble import GradientBoostingClassifier\n",
    "gbc_clf = GradientBoostingClassifier(n_estimators=100, learning_rate=0.88, random_state=0)\n",
    "gbc_clf.fit(train_data,train_lable)\n",
    "#评估结果\n",
    "print('训练集评估结果：{}'.format(gbc_clf.score(train_data,train_lable)))\n",
    "print('测试集评估结果：{}'.format(gbc_clf.score(test_data,test_lable)))"
   ]
  },
  {
   "cell_type": "code",
   "execution_count": 71,
   "metadata": {},
   "outputs": [
    {
     "ename": "ImportError",
     "evalue": "cannot import name 'HistGradientBoostingClassifier' from 'sklearn.ensemble' (C:\\Users\\LiangShu\\Anaconda3\\envs\\tfenv\\lib\\site-packages\\sklearn\\ensemble\\__init__.py)",
     "output_type": "error",
     "traceback": [
      "\u001b[1;31m---------------------------------------------------------------------------\u001b[0m",
      "\u001b[1;31mImportError\u001b[0m                               Traceback (most recent call last)",
      "\u001b[1;32m<ipython-input-71-34f49860075c>\u001b[0m in \u001b[0;36m<module>\u001b[1;34m\u001b[0m\n\u001b[0;32m      1\u001b[0m \u001b[1;31m# Histogram-Based Gradient Boosting\u001b[0m\u001b[1;33m\u001b[0m\u001b[1;33m\u001b[0m\u001b[1;33m\u001b[0m\u001b[0m\n\u001b[1;32m----> 2\u001b[1;33m \u001b[1;32mfrom\u001b[0m \u001b[0msklearn\u001b[0m\u001b[1;33m.\u001b[0m\u001b[0mensemble\u001b[0m \u001b[1;32mimport\u001b[0m \u001b[0mHistGradientBoostingClassifier\u001b[0m\u001b[1;33m\u001b[0m\u001b[1;33m\u001b[0m\u001b[0m\n\u001b[0m\u001b[0;32m      3\u001b[0m \u001b[0mHist_clf\u001b[0m \u001b[1;33m=\u001b[0m \u001b[0mHistGradientBoostingClassifier\u001b[0m\u001b[1;33m(\u001b[0m\u001b[0mmax_iter\u001b[0m\u001b[1;33m=\u001b[0m\u001b[1;36m100\u001b[0m\u001b[1;33m)\u001b[0m\u001b[1;33m\u001b[0m\u001b[1;33m\u001b[0m\u001b[0m\n\u001b[0;32m      4\u001b[0m \u001b[0mHist_clf\u001b[0m\u001b[1;33m.\u001b[0m\u001b[0mfit\u001b[0m\u001b[1;33m(\u001b[0m\u001b[0mtrain_data\u001b[0m\u001b[1;33m,\u001b[0m\u001b[0mtrain_lable\u001b[0m\u001b[1;33m)\u001b[0m\u001b[1;33m\u001b[0m\u001b[1;33m\u001b[0m\u001b[0m\n\u001b[0;32m      5\u001b[0m \u001b[1;31m#评估结果\u001b[0m\u001b[1;33m\u001b[0m\u001b[1;33m\u001b[0m\u001b[1;33m\u001b[0m\u001b[0m\n",
      "\u001b[1;31mImportError\u001b[0m: cannot import name 'HistGradientBoostingClassifier' from 'sklearn.ensemble' (C:\\Users\\LiangShu\\Anaconda3\\envs\\tfenv\\lib\\site-packages\\sklearn\\ensemble\\__init__.py)"
     ]
    }
   ],
   "source": [
    "# Histogram-Based Gradient Boosting, can't loaded this method, ignore it\n",
    "# from sklearn.ensemble import HistGradientBoostingClassifier\n",
    "# Hist_clf = HistGradientBoostingClassifier(max_iter=100)\n",
    "# Hist_clf.fit(train_data,train_lable)\n",
    "# #评估结果\n",
    "# print('训练集评估结果：{}'.format(Hist_clf.score(train_data,train_lable)))\n",
    "# print('测试集评估结果：{}'.format(Hist_clf.score(test_data,test_lable)))"
   ]
  },
  {
   "cell_type": "markdown",
   "metadata": {},
   "source": [
    "**模型6-lightGBM**"
   ]
  },
  {
   "cell_type": "code",
   "execution_count": 72,
   "metadata": {},
   "outputs": [
    {
     "name": "stdout",
     "output_type": "stream",
     "text": [
      "训练集评估结果：0.93234\n",
      "测试集评估结果：0.91754\n"
     ]
    }
   ],
   "source": [
    "from lightgbm import LGBMClassifier\n",
    "lgb_clf=LGBMClassifier()\n",
    "lgb_clf.fit(train_data,train_lable)\n",
    "#评估结果\n",
    "print('训练集评估结果：{}'.format(lgb_clf.score(train_data,train_lable)))\n",
    "print('测试集评估结果：{}'.format(lgb_clf.score(test_data,test_lable)))"
   ]
  },
  {
   "cell_type": "markdown",
   "metadata": {},
   "source": [
    "# 2- stacking合成\n",
    "由上面的不同模型可以看出，lightGBM, Gradient Tree Boosting, AdaBoost, Forests of randomized trees, ExtraTreesClassifier这五个模型效果较好，所以选择他们进行集成。\n",
    "1. 将数据分成5块然后用于不同模型训练\n",
    "2. 五个模型分别计算"
   ]
  },
  {
   "cell_type": "code",
   "execution_count": 77,
   "metadata": {},
   "outputs": [
    {
     "name": "stdout",
     "output_type": "stream",
     "text": [
      "训练集评估结果：0.92636\n",
      "测试集评估结果：0.9165\n"
     ]
    }
   ],
   "source": [
    "from lightgbm import LGBMClassifier\n",
    "from sklearn.ensemble import GradientBoostingClassifier\n",
    "from sklearn.ensemble import AdaBoostClassifier\n",
    "from sklearn.ensemble import RandomForestClassifier\n",
    "from sklearn.ensemble import ExtraTreesClassifier\n",
    "from sklearn.ensemble import StackingClassifier\n",
    "\n",
    "randomforest_clf=RandomForestClassifier(n_estimators=10)\n",
    "adam_clf = AdaBoostClassifier(n_estimators=100,learning_rate=0.88)\n",
    "gbc_clf = GradientBoostingClassifier(n_estimators=100, learning_rate=0.88, random_state=0)\n",
    "lgb_clf=LGBMClassifier()\n",
    "extratree_clf=ExtraTreesClassifier(n_estimators=10)\n",
    "\n",
    "\n",
    "estimators = [('ExtraTreesClassifier', extratree_clf),\n",
    "              ('randomforest', randomforest_clf),\n",
    "              ('AdamBoost', adam_clf),\n",
    "              ('GradientBoost', gbc_clf),\n",
    "              ('LightGBM', lgb_clf)]\n",
    "\n",
    "# Choose lightGBM as final estimator as the score is the best\n",
    "final_estimator =LGBMClassifier()\n",
    "\n",
    "# stacking Regressors\n",
    "reg = StackingClassifier(\n",
    "        estimators=estimators,\n",
    "        final_estimator=final_estimator)\n",
    "\n",
    "reg.fit(train_data,train_lable)\n",
    "#评估结果\n",
    "print('训练集评估结果：{}'.format(reg.score(train_data,train_lable)))\n",
    "print('测试集评估结果：{}'.format(reg.score(test_data,test_lable)))\n",
    "\n"
   ]
  },
  {
   "cell_type": "markdown",
   "metadata": {},
   "source": [
    "### 3- 网络模型，tabnet"
   ]
  },
  {
   "cell_type": "code",
   "execution_count": 78,
   "metadata": {},
   "outputs": [
    {
     "name": "stdout",
     "output_type": "stream",
     "text": [
      "Collecting pytorch-tabnet\n",
      "  Downloading pytorch_tabnet-3.1.1-py3-none-any.whl (39 kB)\n",
      "Requirement already satisfied: torch<2.0,>=1.2 in c:\\users\\liangshu\\anaconda3\\envs\\tfenv\\lib\\site-packages (from pytorch-tabnet) (1.8.1)\n",
      "Requirement already satisfied: scipy>1.4 in c:\\users\\liangshu\\anaconda3\\envs\\tfenv\\lib\\site-packages (from pytorch-tabnet) (1.5.2)\n",
      "Requirement already satisfied: scikit_learn>0.21 in c:\\users\\liangshu\\anaconda3\\envs\\tfenv\\lib\\site-packages (from pytorch-tabnet) (0.23.2)\n",
      "Requirement already satisfied: numpy<2.0,>=1.17 in c:\\users\\liangshu\\anaconda3\\envs\\tfenv\\lib\\site-packages (from pytorch-tabnet) (1.18.5)\n",
      "Requirement already satisfied: tqdm<5.0,>=4.36 in c:\\users\\liangshu\\anaconda3\\envs\\tfenv\\lib\\site-packages (from pytorch-tabnet) (4.51.0)\n",
      "Requirement already satisfied: joblib>=0.11 in c:\\users\\liangshu\\anaconda3\\envs\\tfenv\\lib\\site-packages (from scikit_learn>0.21->pytorch-tabnet) (0.16.0)\n"
     ]
    },
    {
     "name": "stderr",
     "output_type": "stream",
     "text": [
      "WARNING: You are using pip version 20.3.3; however, version 21.1.1 is available.\n",
      "You should consider upgrading via the 'c:\\users\\liangshu\\anaconda3\\envs\\tfenv\\python.exe -m pip install --upgrade pip' command.\n"
     ]
    },
    {
     "name": "stdout",
     "output_type": "stream",
     "text": [
      "Requirement already satisfied: threadpoolctl>=2.0.0 in c:\\users\\liangshu\\anaconda3\\envs\\tfenv\\lib\\site-packages (from scikit_learn>0.21->pytorch-tabnet) (2.1.0)\n",
      "Requirement already satisfied: typing-extensions in c:\\users\\liangshu\\anaconda3\\envs\\tfenv\\lib\\site-packages (from torch<2.0,>=1.2->pytorch-tabnet) (3.10.0.0)\n",
      "Installing collected packages: pytorch-tabnet\n",
      "Successfully installed pytorch-tabnet-3.1.1\n"
     ]
    }
   ],
   "source": [
    "!pip install pytorch-tabnet"
   ]
  },
  {
   "cell_type": "code",
   "execution_count": 117,
   "metadata": {},
   "outputs": [],
   "source": [
    "from pytorch_tabnet.tab_model import TabNetClassifier, TabNetRegressor\n",
    "X_train=train_data.loc[0:40000].values\n",
    "Y_train=train_lable.loc[0:40000].values\n",
    "X_valid=train_data.loc[40000:50000].values\n",
    "Y_valid=train_lable.loc[40000:50000].values\n"
   ]
  },
  {
   "cell_type": "code",
   "execution_count": 118,
   "metadata": {},
   "outputs": [
    {
     "name": "stdout",
     "output_type": "stream",
     "text": [
      "Device used : cpu\n",
      "epoch 0  | loss: 0.43028 | train_auc: 0.50276 | valid_auc: 0.50668 |  0:00:09s\n",
      "epoch 1  | loss: 0.24737 | train_auc: 0.86322 | valid_auc: 0.86457 |  0:00:20s\n",
      "epoch 2  | loss: 0.22659 | train_auc: 0.92071 | valid_auc: 0.91884 |  0:00:32s\n",
      "epoch 3  | loss: 0.22123 | train_auc: 0.93574 | valid_auc: 0.93351 |  0:00:43s\n",
      "epoch 4  | loss: 0.21935 | train_auc: 0.95348 | valid_auc: 0.9501  |  0:00:54s\n",
      "epoch 5  | loss: 0.21686 | train_auc: 0.95328 | valid_auc: 0.94922 |  0:01:05s\n",
      "epoch 6  | loss: 0.21229 | train_auc: 0.95473 | valid_auc: 0.95094 |  0:01:16s\n",
      "epoch 7  | loss: 0.20984 | train_auc: 0.9568  | valid_auc: 0.95385 |  0:01:28s\n",
      "epoch 8  | loss: 0.20925 | train_auc: 0.95803 | valid_auc: 0.9552  |  0:01:40s\n",
      "epoch 9  | loss: 0.21032 | train_auc: 0.95758 | valid_auc: 0.95353 |  0:01:53s\n",
      "epoch 10 | loss: 0.2091  | train_auc: 0.95824 | valid_auc: 0.95502 |  0:02:04s\n",
      "epoch 11 | loss: 0.20726 | train_auc: 0.95872 | valid_auc: 0.95602 |  0:02:15s\n",
      "epoch 12 | loss: 0.20692 | train_auc: 0.95877 | valid_auc: 0.95449 |  0:02:26s\n",
      "epoch 13 | loss: 0.20643 | train_auc: 0.95838 | valid_auc: 0.95394 |  0:02:37s\n",
      "epoch 14 | loss: 0.2072  | train_auc: 0.95866 | valid_auc: 0.95537 |  0:02:48s\n",
      "epoch 15 | loss: 0.20723 | train_auc: 0.9583  | valid_auc: 0.95514 |  0:03:00s\n",
      "epoch 16 | loss: 0.20775 | train_auc: 0.95873 | valid_auc: 0.95514 |  0:03:11s\n",
      "epoch 17 | loss: 0.20787 | train_auc: 0.95876 | valid_auc: 0.95521 |  0:03:22s\n",
      "epoch 18 | loss: 0.20692 | train_auc: 0.95913 | valid_auc: 0.95485 |  0:03:33s\n",
      "epoch 19 | loss: 0.20623 | train_auc: 0.95876 | valid_auc: 0.9548  |  0:03:45s\n",
      "epoch 20 | loss: 0.206   | train_auc: 0.95918 | valid_auc: 0.95569 |  0:03:56s\n",
      "epoch 21 | loss: 0.20568 | train_auc: 0.95904 | valid_auc: 0.95463 |  0:04:08s\n",
      "\n",
      "Early stopping occurred at epoch 21 with best_epoch = 11 and best_valid_auc = 0.95602\n",
      "Best weights from best epoch are automatically used!\n"
     ]
    }
   ],
   "source": [
    "tabnet_clf=TabNetClassifier()\n",
    "tabnet_clf.fit(X_train,Y_train,\n",
    "               max_epochs=50,\n",
    "               eval_set=[(X_train, Y_train),(X_valid, Y_valid)],\n",
    "               eval_name=['train', 'valid'],\n",
    "               eval_metric=['auc'])"
   ]
  },
  {
   "cell_type": "code",
   "execution_count": 120,
   "metadata": {},
   "outputs": [
    {
     "data": {
      "text/plain": [
       "0.91366"
      ]
     },
     "execution_count": 120,
     "metadata": {},
     "output_type": "execute_result"
    }
   ],
   "source": [
    "from sklearn.metrics import accuracy_score\n",
    "X_test=test_data.values\n",
    "Y_test=test_lable.values\n",
    "preds = tabnet_clf.predict(X_test)\n",
    "\n",
    "accuracy_score(Y_test,preds)"
   ]
  },
  {
   "cell_type": "markdown",
   "metadata": {},
   "source": [
    "### 4- Trik\n",
    "**修改mask函数**"
   ]
  },
  {
   "cell_type": "code",
   "execution_count": 124,
   "metadata": {},
   "outputs": [
    {
     "name": "stdout",
     "output_type": "stream",
     "text": [
      "Device used : cpu\n",
      "epoch 0  | loss: 0.38423 | train_auc: 0.55959 | valid_auc: 0.55478 |  0:00:10s\n",
      "epoch 1  | loss: 0.22713 | train_auc: 0.82522 | valid_auc: 0.82666 |  0:00:20s\n",
      "epoch 2  | loss: 0.21191 | train_auc: 0.85566 | valid_auc: 0.85042 |  0:00:31s\n",
      "epoch 3  | loss: 0.20842 | train_auc: 0.91118 | valid_auc: 0.9065  |  0:00:43s\n",
      "epoch 4  | loss: 0.20981 | train_auc: 0.91152 | valid_auc: 0.90636 |  0:00:53s\n",
      "epoch 5  | loss: 0.20617 | train_auc: 0.95195 | valid_auc: 0.94722 |  0:01:04s\n",
      "epoch 6  | loss: 0.20668 | train_auc: 0.95516 | valid_auc: 0.95179 |  0:01:15s\n",
      "epoch 7  | loss: 0.20533 | train_auc: 0.95925 | valid_auc: 0.95642 |  0:01:26s\n",
      "epoch 8  | loss: 0.20408 | train_auc: 0.96043 | valid_auc: 0.95735 |  0:01:37s\n",
      "epoch 9  | loss: 0.20412 | train_auc: 0.96103 | valid_auc: 0.95827 |  0:01:48s\n",
      "epoch 10 | loss: 0.20289 | train_auc: 0.96196 | valid_auc: 0.95786 |  0:01:59s\n",
      "epoch 11 | loss: 0.20232 | train_auc: 0.9617  | valid_auc: 0.9571  |  0:02:11s\n",
      "epoch 12 | loss: 0.20066 | train_auc: 0.96218 | valid_auc: 0.95781 |  0:02:24s\n",
      "epoch 13 | loss: 0.20064 | train_auc: 0.96277 | valid_auc: 0.95768 |  0:02:35s\n",
      "epoch 14 | loss: 0.19991 | train_auc: 0.96204 | valid_auc: 0.95697 |  0:02:47s\n",
      "epoch 15 | loss: 0.2006  | train_auc: 0.96301 | valid_auc: 0.95732 |  0:02:58s\n",
      "epoch 16 | loss: 0.20057 | train_auc: 0.96322 | valid_auc: 0.95779 |  0:03:10s\n",
      "epoch 17 | loss: 0.20278 | train_auc: 0.96249 | valid_auc: 0.95672 |  0:03:21s\n",
      "epoch 18 | loss: 0.20148 | train_auc: 0.96332 | valid_auc: 0.95754 |  0:03:32s\n",
      "epoch 19 | loss: 0.19965 | train_auc: 0.96333 | valid_auc: 0.95684 |  0:03:44s\n",
      "\n",
      "Early stopping occurred at epoch 19 with best_epoch = 9 and best_valid_auc = 0.95827\n",
      "Best weights from best epoch are automatically used!\n"
     ]
    }
   ],
   "source": [
    "tabnet_clf2=TabNetClassifier(mask_type='entmax')\n",
    "tabnet_clf2.fit(X_train,Y_train,\n",
    "               max_epochs=50,\n",
    "               eval_set=[(X_train, Y_train),(X_valid, Y_valid)],\n",
    "               eval_name=['train', 'valid'],\n",
    "               eval_metric=['auc'])"
   ]
  },
  {
   "cell_type": "code",
   "execution_count": 125,
   "metadata": {},
   "outputs": [
    {
     "data": {
      "text/plain": [
       "0.9142"
      ]
     },
     "execution_count": 125,
     "metadata": {},
     "output_type": "execute_result"
    }
   ],
   "source": [
    "preds2 = tabnet_clf2.predict(X_test)\n",
    "\n",
    "accuracy_score(Y_test,preds2)"
   ]
  },
  {
   "cell_type": "markdown",
   "metadata": {},
   "source": [
    "**修改momentum参数**"
   ]
  },
  {
   "cell_type": "code",
   "execution_count": 132,
   "metadata": {},
   "outputs": [
    {
     "name": "stdout",
     "output_type": "stream",
     "text": [
      "Device used : cpu\n",
      "epoch 0  | loss: 0.38423 | train_auc: 0.56178 | valid_auc: 0.5575  |  0:00:09s\n",
      "epoch 1  | loss: 0.22713 | train_auc: 0.79845 | valid_auc: 0.80433 |  0:00:20s\n",
      "epoch 2  | loss: 0.21191 | train_auc: 0.84416 | valid_auc: 0.84176 |  0:00:30s\n",
      "epoch 3  | loss: 0.20842 | train_auc: 0.90564 | valid_auc: 0.90066 |  0:00:42s\n",
      "epoch 4  | loss: 0.20981 | train_auc: 0.90656 | valid_auc: 0.90064 |  0:00:53s\n",
      "epoch 5  | loss: 0.20617 | train_auc: 0.95148 | valid_auc: 0.94667 |  0:01:06s\n",
      "epoch 6  | loss: 0.20668 | train_auc: 0.95475 | valid_auc: 0.95154 |  0:01:19s\n",
      "epoch 7  | loss: 0.20533 | train_auc: 0.95922 | valid_auc: 0.95643 |  0:01:31s\n",
      "epoch 8  | loss: 0.20408 | train_auc: 0.96046 | valid_auc: 0.95733 |  0:01:44s\n",
      "epoch 9  | loss: 0.20412 | train_auc: 0.961   | valid_auc: 0.95823 |  0:01:55s\n",
      "epoch 10 | loss: 0.20289 | train_auc: 0.96195 | valid_auc: 0.95783 |  0:02:06s\n",
      "epoch 11 | loss: 0.20232 | train_auc: 0.96171 | valid_auc: 0.95701 |  0:02:17s\n",
      "epoch 12 | loss: 0.20066 | train_auc: 0.96219 | valid_auc: 0.95778 |  0:02:29s\n",
      "epoch 13 | loss: 0.20064 | train_auc: 0.96273 | valid_auc: 0.95776 |  0:02:40s\n",
      "epoch 14 | loss: 0.19991 | train_auc: 0.96204 | valid_auc: 0.95693 |  0:02:51s\n",
      "epoch 15 | loss: 0.2006  | train_auc: 0.96304 | valid_auc: 0.95733 |  0:03:02s\n",
      "epoch 16 | loss: 0.20057 | train_auc: 0.96323 | valid_auc: 0.95784 |  0:03:13s\n",
      "epoch 17 | loss: 0.20278 | train_auc: 0.96245 | valid_auc: 0.95676 |  0:03:24s\n",
      "epoch 18 | loss: 0.20148 | train_auc: 0.96324 | valid_auc: 0.9575  |  0:03:35s\n",
      "epoch 19 | loss: 0.19965 | train_auc: 0.96334 | valid_auc: 0.95684 |  0:03:47s\n",
      "\n",
      "Early stopping occurred at epoch 19 with best_epoch = 9 and best_valid_auc = 0.95823\n",
      "Best weights from best epoch are automatically used!\n"
     ]
    }
   ],
   "source": [
    "import torch\n",
    "tabnet_clf3=TabNetClassifier(mask_type='entmax',momentum=0.01)\n",
    "tabnet_clf3.fit(X_train,Y_train,\n",
    "               max_epochs=30,\n",
    "               eval_set=[(X_train, Y_train),(X_valid, Y_valid)],\n",
    "               eval_name=['train', 'valid'],\n",
    "               eval_metric=['auc'])"
   ]
  },
  {
   "cell_type": "code",
   "execution_count": 134,
   "metadata": {},
   "outputs": [
    {
     "data": {
      "text/plain": [
       "0.91438"
      ]
     },
     "execution_count": 134,
     "metadata": {},
     "output_type": "execute_result"
    }
   ],
   "source": [
    "preds3 = tabnet_clf3.predict(X_test)\n",
    "\n",
    "accuracy_score(Y_test,preds3)"
   ]
  },
  {
   "cell_type": "markdown",
   "metadata": {},
   "source": [
    "**修改optimizer_params**"
   ]
  },
  {
   "cell_type": "code",
   "execution_count": 145,
   "metadata": {},
   "outputs": [
    {
     "name": "stdout",
     "output_type": "stream",
     "text": [
      "Device used : cpu\n",
      "epoch 0  | loss: 0.46429 | train_auc: 0.73367 | valid_auc: 0.7523  |  0:00:11s\n",
      "epoch 1  | loss: 0.2594  | train_auc: 0.89742 | valid_auc: 0.89016 |  0:00:22s\n",
      "epoch 2  | loss: 0.23041 | train_auc: 0.91893 | valid_auc: 0.91907 |  0:00:33s\n",
      "epoch 3  | loss: 0.22198 | train_auc: 0.92522 | valid_auc: 0.92539 |  0:00:45s\n",
      "epoch 4  | loss: 0.21623 | train_auc: 0.95183 | valid_auc: 0.95135 |  0:00:58s\n",
      "epoch 5  | loss: 0.21293 | train_auc: 0.95565 | valid_auc: 0.95396 |  0:01:11s\n",
      "epoch 6  | loss: 0.21139 | train_auc: 0.95787 | valid_auc: 0.95568 |  0:01:24s\n",
      "epoch 7  | loss: 0.20873 | train_auc: 0.95867 | valid_auc: 0.95656 |  0:01:38s\n",
      "epoch 8  | loss: 0.20756 | train_auc: 0.95942 | valid_auc: 0.95688 |  0:01:54s\n",
      "epoch 9  | loss: 0.20767 | train_auc: 0.96043 | valid_auc: 0.95693 |  0:02:09s\n",
      "epoch 10 | loss: 0.2073  | train_auc: 0.96078 | valid_auc: 0.95716 |  0:02:22s\n",
      "epoch 11 | loss: 0.206   | train_auc: 0.96079 | valid_auc: 0.9571  |  0:02:34s\n",
      "epoch 12 | loss: 0.20508 | train_auc: 0.96099 | valid_auc: 0.95756 |  0:02:45s\n",
      "epoch 13 | loss: 0.20458 | train_auc: 0.9614  | valid_auc: 0.95745 |  0:02:58s\n",
      "epoch 14 | loss: 0.20343 | train_auc: 0.96123 | valid_auc: 0.95783 |  0:03:09s\n",
      "epoch 15 | loss: 0.20331 | train_auc: 0.96156 | valid_auc: 0.95809 |  0:03:21s\n",
      "epoch 16 | loss: 0.20304 | train_auc: 0.96186 | valid_auc: 0.9578  |  0:03:32s\n",
      "epoch 17 | loss: 0.20381 | train_auc: 0.96157 | valid_auc: 0.95743 |  0:03:44s\n",
      "epoch 18 | loss: 0.20385 | train_auc: 0.96183 | valid_auc: 0.95739 |  0:03:55s\n",
      "epoch 19 | loss: 0.202   | train_auc: 0.9622  | valid_auc: 0.95768 |  0:04:06s\n",
      "epoch 20 | loss: 0.20065 | train_auc: 0.96258 | valid_auc: 0.95791 |  0:04:18s\n",
      "epoch 21 | loss: 0.20058 | train_auc: 0.96261 | valid_auc: 0.95739 |  0:04:31s\n",
      "epoch 22 | loss: 0.20091 | train_auc: 0.96265 | valid_auc: 0.95744 |  0:04:42s\n",
      "epoch 23 | loss: 0.2014  | train_auc: 0.96312 | valid_auc: 0.95732 |  0:04:54s\n",
      "epoch 24 | loss: 0.20008 | train_auc: 0.96304 | valid_auc: 0.95733 |  0:05:05s\n",
      "epoch 25 | loss: 0.20174 | train_auc: 0.96296 | valid_auc: 0.95679 |  0:05:17s\n",
      "\n",
      "Early stopping occurred at epoch 25 with best_epoch = 15 and best_valid_auc = 0.95809\n",
      "Best weights from best epoch are automatically used!\n"
     ]
    }
   ],
   "source": [
    "import torch\n",
    "import torch.nn\n",
    "\n",
    "tabnet_clf4=TabNetClassifier(mask_type='entmax',momentum=0.01,optimizer_params=dict(lr=0.01))\n",
    "tabnet_clf4.fit(X_train,Y_train,\n",
    "               max_epochs=30,\n",
    "               eval_set=[(X_train, Y_train),(X_valid, Y_valid)],\n",
    "               eval_name=['train', 'valid'],\n",
    "               eval_metric=['auc'])"
   ]
  },
  {
   "cell_type": "code",
   "execution_count": 146,
   "metadata": {},
   "outputs": [
    {
     "data": {
      "text/plain": [
       "0.9167"
      ]
     },
     "execution_count": 146,
     "metadata": {},
     "output_type": "execute_result"
    }
   ],
   "source": [
    "preds4 = tabnet_clf4.predict(X_test)\n",
    "\n",
    "accuracy_score(Y_test,preds4)"
   ]
  },
  {
   "cell_type": "markdown",
   "metadata": {},
   "source": [
    "最终score为0.9167"
   ]
  },
  {
   "cell_type": "code",
   "execution_count": null,
   "metadata": {},
   "outputs": [],
   "source": []
  }
 ],
 "metadata": {
  "kernelspec": {
   "display_name": "Python 3",
   "language": "python",
   "name": "python3"
  },
  "language_info": {
   "codemirror_mode": {
    "name": "ipython",
    "version": 3
   },
   "file_extension": ".py",
   "mimetype": "text/x-python",
   "name": "python",
   "nbconvert_exporter": "python",
   "pygments_lexer": "ipython3",
   "version": "3.7.9"
  }
 },
 "nbformat": 4,
 "nbformat_minor": 4
}
